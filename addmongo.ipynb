{
 "cells": [
  {
   "cell_type": "code",
   "execution_count": 2,
   "metadata": {},
   "outputs": [],
   "source": [
    "#Code to add csv to mongo db.\n",
    "# Dependencies\n",
    "import pandas as pd\n",
    "import pymongo\n"
   ]
  },
  {
   "cell_type": "code",
   "execution_count": 3,
   "metadata": {},
   "outputs": [],
   "source": [
    "#Making Mongo DB connections\n",
    "conn = 'mongodb://localhost:27017'\n",
    "client = pymongo.MongoClient(conn)\n",
    "\n",
    "#Creating DB\n",
    "db = client.rent_DB\n",
    "\n",
    "#Creating collections for the DB\n",
    "craigslist = db.craigs.find()\n",
    "sulekha = db.sulekha.find()"
   ]
  },
  {
   "cell_type": "code",
   "execution_count": 4,
   "metadata": {},
   "outputs": [],
   "source": [
    "#Reading the scraped data\n",
    "craigs = pd.read_csv(\"craigs.csv\",keep_default_na=False)\n",
    "sul = pd.read_csv(\"sulekha.csv\",keep_default_na=False)\n",
    "\n"
   ]
  },
  {
   "cell_type": "code",
   "execution_count": 5,
   "metadata": {},
   "outputs": [],
   "source": [
    "#Copy the Craigslist data to the data base\n",
    "for index,row in craigs.iterrows():\n",
    "    db.craigslist.insert_one(\n",
    "    {\n",
    "        'title':str(row['Title']).strip(),\n",
    "        'price':str(row['Price']).strip(),\n",
    "        'location':str(row['Location']).strip(),\n",
    "        'bedroom':str(row['Bed']).strip()\n",
    "    }\n",
    "\n",
    "    )"
   ]
  },
  {
   "cell_type": "code",
   "execution_count": 6,
   "metadata": {},
   "outputs": [],
   "source": [
    "#Copy the Sulekha data to the data base\n",
    "for index,row in sul.iterrows():\n",
    "    db.sulekha.insert_one(\n",
    "    {\n",
    "        'title':str(row['HeadLine']).strip(),\n",
    "        'price':str(row['Price']).strip(),\n",
    "        'location':str(row['Location']).strip(),\n",
    "        'bedroom':str(row['Bed']).strip()\n",
    "    }\n",
    "\n",
    "    )"
   ]
  },
  {
   "cell_type": "code",
   "execution_count": null,
   "metadata": {},
   "outputs": [],
   "source": []
  },
  {
   "cell_type": "code",
   "execution_count": null,
   "metadata": {},
   "outputs": [],
   "source": []
  }
 ],
 "metadata": {
  "kernelspec": {
   "display_name": "Python 3",
   "language": "python",
   "name": "python3"
  },
  "language_info": {
   "codemirror_mode": {
    "name": "ipython",
    "version": 3
   },
   "file_extension": ".py",
   "mimetype": "text/x-python",
   "name": "python",
   "nbconvert_exporter": "python",
   "pygments_lexer": "ipython3",
   "version": "3.7.0"
  }
 },
 "nbformat": 4,
 "nbformat_minor": 2
}
